{
 "cells": [
  {
   "cell_type": "markdown",
   "metadata": {},
   "source": [
    "# Fair-Classification with AIF360 Introduction\n",
    "The repo contains some functions for fairness in classification from https://github.com/mbilalzafar/fair-classification and several other methods for fairness in machine learning meant to be used with the AIF360 framework https://developer.ibm.com/open/projects/ai-fairness-360/.\n",
    "\n",
    "The initial goal was to provide some methods for fairness in machine learning and a common data structure to use. Due to the availability of AIF360 the initial progress was discarded and some of the methods included into the AIF360 structure.\n",
    "\n",
    "Available methods and functions are:\n",
    "\n",
    "- disparate impact and disparate mistreatment remover\n",
    "- preferential fairness \n",
    "- a function to plot decision boundaries on AIF360 data sets\n",
    "- a synthetic data set\n",
    "- methods for fairness warnings"
   ]
  },
  {
   "cell_type": "code",
   "execution_count": 1,
   "metadata": {},
   "outputs": [],
   "source": [
    "import sys\n",
    "import numpy as np\n",
    "sys.path.append(\"../\")\n",
    "\n",
    "from aif360.datasets import GermanDataset\n",
    "from aif360.metrics import ClassificationMetric\n",
    "from fairensics.data.synthetic_dataset import SyntheticDataset\n",
    "from fairensics.data.decision_boundary import DecisionBoundary \n",
    "from fairensics.methods import FairDisparateImpact, AccurateDisparateImpact\n",
    "from fairensics.methods import DisparateMistreatment\n",
    "from fairensics.methods import PreferentialFairness\n",
    "from sklearn.linear_model import LogisticRegression\n",
    "from sklearn.svm import SVC"
   ]
  },
  {
   "cell_type": "markdown",
   "metadata": {},
   "source": [
    "# 0. Short Example:"
   ]
  },
  {
   "cell_type": "markdown",
   "metadata": {},
   "source": [
    "## 0.1 Load Data"
   ]
  },
  {
   "cell_type": "code",
   "execution_count": 2,
   "metadata": {},
   "outputs": [],
   "source": [
    "# load a data set (either one from AIF360 or a 2D data set from fair-classification)\n",
    "syn_data = SyntheticDataset()\n",
    "\n",
    "# splitting the data into train and test set\n",
    "syn_train, syn_test = syn_data.split([0.7], shuffle=True)"
   ]
  },
  {
   "cell_type": "markdown",
   "metadata": {},
   "source": [
    "## 0.2 Train Models"
   ]
  },
  {
   "cell_type": "code",
   "execution_count": 3,
   "metadata": {},
   "outputs": [
    {
     "name": "stderr",
     "output_type": "stream",
     "text": [
      "../fairensics/methods/fairness_warnings.py:203: UserWarning: Ratio  between label and attribute  for protected attribute: protected_attribute is  above threshold of 0.4\n",
      "  warnings.warn(warning_msg)\n"
     ]
    },
    {
     "data": {
      "text/plain": [
       "<fairensics.methods.disparate_impact.FairDisparateImpact at 0x7f6c18406ac8>"
      ]
     },
     "execution_count": 3,
     "metadata": {},
     "output_type": "execute_result"
    }
   ],
   "source": [
    "# logistic regression without constraints (for comparison)\n",
    "logreg = FairDisparateImpact()\n",
    "logreg.fit(syn_train)\n",
    "\n",
    "# logistic regression with constraints \n",
    "dspim = FairDisparateImpact()\n",
    "dspim.fit(syn_train)"
   ]
  },
  {
   "cell_type": "markdown",
   "metadata": {},
   "source": [
    "## 0.3 Make Predictions"
   ]
  },
  {
   "cell_type": "code",
   "execution_count": 4,
   "metadata": {},
   "outputs": [],
   "source": [
    "logreg_predictions = logreg.predict(syn_test)\n",
    "dispim_predictions = dspim.predict(syn_test)"
   ]
  },
  {
   "cell_type": "markdown",
   "metadata": {},
   "source": [
    "## 0.4 Evaluation"
   ]
  },
  {
   "cell_type": "code",
   "execution_count": 5,
   "metadata": {},
   "outputs": [
    {
     "name": "stdout",
     "output_type": "stream",
     "text": [
      "unconstrained logistic regression accuracy: \t 0.865\n",
      "constrained logistic regression accuracy: \t 0.865\n",
      "\n",
      "unconstrained logistic regression p-rule: \t 0.4669811320754717\n",
      "constrained logistic regression p-rule: \t 0.4669811320754717\n"
     ]
    }
   ],
   "source": [
    "# print some metrics using AIF\n",
    "privileged_groups = [{'protected_attribute': 1}]\n",
    "unprivileged_groups = [{'protected_attribute': 0}]\n",
    "\n",
    "dspim_metric = ClassificationMetric(syn_test, \n",
    "                                    dispim_predictions, \n",
    "                                    unprivileged_groups=unprivileged_groups,\n",
    "                                    privileged_groups=privileged_groups)\n",
    "\n",
    "logreg_metric = ClassificationMetric(syn_test, \n",
    "                                     logreg_predictions, \n",
    "                                     unprivileged_groups=unprivileged_groups,\n",
    "                                     privileged_groups=privileged_groups)\n",
    "\n",
    "print(\"unconstrained logistic regression accuracy: \\t\", logreg_metric.accuracy())\n",
    "print(\"constrained logistic regression accuracy: \\t\", dspim_metric.accuracy())\n",
    "print()\n",
    "\n",
    "print(\"unconstrained logistic regression p-rule: \\t\", logreg_metric.disparate_impact())\n",
    "print(\"constrained logistic regression p-rule: \\t\", dspim_metric.disparate_impact())"
   ]
  },
  {
   "cell_type": "markdown",
   "metadata": {},
   "source": [
    "# 1. Full example"
   ]
  },
  {
   "cell_type": "markdown",
   "metadata": {},
   "source": [
    "## 1.1 Load Data"
   ]
  },
  {
   "cell_type": "markdown",
   "metadata": {},
   "source": [
    "The 2D synthetic data from fair-classification as AIF360 BinaryLabelDataset:"
   ]
  },
  {
   "cell_type": "code",
   "execution_count": 6,
   "metadata": {},
   "outputs": [
    {
     "name": "stdout",
     "output_type": "stream",
     "text": [
      "Synthetic data set features: \t \t ['feature_1', 'feature_2', 'protected_attribute']\n",
      "Synthetic data set protected attributes: ['protected_attribute']\n",
      "Synthetic data set privileged classes: \t [[1]]\n",
      "Synthetic data set favorable label: \t 1.0\n",
      "Synthetic data set shape: \t \t (2000, 3)\n"
     ]
    },
    {
     "data": {
      "image/png": "[encoded data removed]",
      "text/plain": [
       "<matplotlib.figure.Figure at 0x7f6c163d9518>"
      ]
     },
     "metadata": {},
     "output_type": "display_data"
    }
   ],
   "source": [
    "# The data set is an AIF360 StandardDataset annotated with protected columns, privileged classes and labels \n",
    "\n",
    "syn = SyntheticDataset()\n",
    "print(\"Synthetic data set features: \\t \\t\",syn.feature_names)\n",
    "print(\"Synthetic data set protected attributes:\", syn.protected_attribute_names)\n",
    "print(\"Synthetic data set privileged classes: \\t\", syn.privileged_protected_attributes)\n",
    "print(\"Synthetic data set favorable label: \\t\", syn.favorable_label)\n",
    "print(\"Synthetic data set shape: \\t \\t\", syn.features.shape)\n",
    "\n",
    "# We added a plot function to visualize the points and a decision boundary plot, to compare\n",
    "# the resulting decision boundary for different methods.\n",
    "syn.plot(num_to_draw=70)\n"
   ]
  },
  {
   "cell_type": "markdown",
   "metadata": {},
   "source": [
    "Green points belong to the positive class (e.g. being granted a credit) and red points correspondingly belong to the negative class.\n",
    "A circle denotes, that the point does not belong to a protected group (e.g. the person is not a foreign worker) while a cross indicates membership in the protected group (e.g. the person is a foreign worker)."
   ]
  },
  {
   "cell_type": "markdown",
   "metadata": {},
   "source": [
    "## 1.2 Computing Metrics\n",
    " The first method removes disparate impact. Formally, disparate impact is satisfied when the acceptance rate between protected and unprotected groups is equal. For example, 30 people apply for a job, but only 12 shall be hired.  Some of them are local and some are foreign workers. To satisfy disparate impact the same number of local and foreign workers must be hired (six of each). \n",
    "\n",
    "A relaxation of disparate impact is the p-rule, stating that the proportion in the acceptance rate between protected and unprotected groups must only be above some fraction p. \n",
    "\n",
    "For the above example and a p value of 0.6, it is fine to hire five foreigners and seven locals (because 5/7 = 0.71 > p = 0.6). \n",
    "\n",
    "Usually, p is chosen to be 80% (LINK?).    "
   ]
  },
  {
   "cell_type": "markdown",
   "metadata": {},
   "source": [
    "First, the p-rule is computed on the raw data."
   ]
  },
  {
   "cell_type": "code",
   "execution_count": 7,
   "metadata": {},
   "outputs": [
    {
     "name": "stdout",
     "output_type": "stream",
     "text": [
      "p-rule:  0.47058823529411764\n"
     ]
    }
   ],
   "source": [
    "# computing the p-rule by hand\n",
    "positive_label = syn.labels == 1\n",
    "\n",
    "privileged_group = syn.protected_attributes == 1\n",
    "unprivileged_group = syn.protected_attributes == 0\n",
    "\n",
    "positive_label_privileged_group = positive_label == privileged_group\n",
    "positive_label_unprivileged_group = positive_label == unprivileged_group\n",
    "\n",
    "# print(\"p-rule: \", np.sum(positive_label_positive_class)/np.sum(positive_label_negative_class) )\n",
    "print(\"p-rule: \", np.sum(positive_label_unprivileged_group)/np.sum(positive_label_privileged_group) )\n"
   ]
  },
  {
   "cell_type": "code",
   "execution_count": 8,
   "metadata": {},
   "outputs": [
    {
     "name": "stdout",
     "output_type": "stream",
     "text": [
      "p-rule on raw data: \t 0.4790144110402635\n"
     ]
    }
   ],
   "source": [
    "# using AIF to compute the p-rule\n",
    "privileged_groups = [{'protected_attribute': 1}]\n",
    "unprivileged_groups = [{'protected_attribute': 0}]\n",
    "\n",
    "metric = ClassificationMetric(syn, \n",
    "                              syn, \n",
    "                              unprivileged_groups=unprivileged_groups,\n",
    "                              privileged_groups=privileged_groups)\n",
    "\n",
    "print(\"p-rule on raw data: \\t\", metric.disparate_impact())\n"
   ]
  },
  {
   "cell_type": "markdown",
   "metadata": {},
   "source": [
    "## 1. 3 Removing Disparate Impact\n",
    "First, assure the unconstrained disparate impact remover has similar results as sklearn."
   ]
  },
  {
   "cell_type": "code",
   "execution_count": 9,
   "metadata": {},
   "outputs": [],
   "source": [
    "# split the data into train and test set\n",
    "syn_train, syn_test = syn.split([0.7], shuffle=True)"
   ]
  },
  {
   "cell_type": "code",
   "execution_count": 10,
   "metadata": {},
   "outputs": [
    {
     "name": "stdout",
     "output_type": "stream",
     "text": [
      "Sklearn logistic regression:  0.865\n"
     ]
    }
   ],
   "source": [
    "# logistic regressio from sklearn\n",
    "skclf = LogisticRegression()\n",
    "\n",
    "# Only the first two columns of the data set are passed to sklearn (the unprotected attributes) \n",
    "# the disparate impact remover doesn’t consider them either for decision making\n",
    "skclf.fit(syn_train.features[:, :2], syn_train.labels.ravel())\n",
    "\n",
    "print(\"Sklearn logistic regression: \", skclf.score(syn_test.features[:, :2], syn_test.labels))"
   ]
  },
  {
   "cell_type": "code",
   "execution_count": 11,
   "metadata": {},
   "outputs": [
    {
     "data": {
      "text/plain": [
       "<fairensics.methods.disparate_impact.FairDisparateImpact at 0x7f6c163bcd30>"
      ]
     },
     "execution_count": 11,
     "metadata": {},
     "output_type": "execute_result"
    }
   ],
   "source": [
    "# disparate impact remover\n",
    "dspim = FairDisparateImpact(warn=False)\n",
    "\n",
    "# features and labels are annotated in the data set\n",
    "dspim.fit(syn_train)\n",
    "\n",
    "# there is no score function in AIF360, the evaluation is done using another class later "
   ]
  },
  {
   "cell_type": "markdown",
   "metadata": {},
   "source": [
    "### 1.3.1 Assuring that the learned weights are (roughly) the same:  "
   ]
  },
  {
   "cell_type": "code",
   "execution_count": 12,
   "metadata": {},
   "outputs": [
    {
     "name": "stdout",
     "output_type": "stream",
     "text": [
      "[0.05261605 0.40838038 0.82711225]\n",
      "[0.05359594 0.40896408 0.82963877]\n"
     ]
    }
   ],
   "source": [
    "print(np.hstack((skclf.intercept_[:,None], skclf.coef_)).ravel())\n",
    "print(dspim._params['w'])"
   ]
  },
  {
   "cell_type": "markdown",
   "metadata": {},
   "source": [
    "It is also possible to verify this with decision boundary plots. The plotting function takes the features of the data set and a classifier to draw the boundary using a mesh grid. This way, nonlinear decision boundaries can be drawn. "
   ]
  },
  {
   "cell_type": "code",
   "execution_count": 13,
   "metadata": {},
   "outputs": [
    {
     "data": {
      "image/png": "[encoded data removed]",
      "text/plain": [
       "<matplotlib.figure.Figure at 0x7f6c47ff6630>"
      ]
     },
     "metadata": {},
     "output_type": "display_data"
    }
   ],
   "source": [
    "dec_bound = DecisionBoundary()\n",
    "dec_bound.add_boundary(syn_test, skclf, label=\"sklearn\", num_points=1000) # add one boundary\n",
    "dec_bound.add_boundary(syn_test, dspim, label=\"disparate impact\", num_points=1000) # add second boundary\n",
    "dec_bound.scatter(syn_test) # add points to the plot\n",
    "dec_bound.show()"
   ]
  },
  {
   "cell_type": "markdown",
   "metadata": {},
   "source": [
    "Only one line is visible, hence the decision boundaries are identical.  "
   ]
  },
  {
   "cell_type": "markdown",
   "metadata": {},
   "source": [
    "## 1.3.2 Training Constrained Classifier"
   ]
  },
  {
   "cell_type": "code",
   "execution_count": 14,
   "metadata": {},
   "outputs": [
    {
     "name": "stdout",
     "output_type": "stream",
     "text": [
      "p-rule on unconstrained classifier: \t 0.4669811320754717\n",
      "accuracy on constrained classifier: \t 0.865\n"
     ]
    }
   ],
   "source": [
    "# computing the p-rule on the unconstrained classifier   \n",
    "\n",
    "predictions = dspim.predict(syn_test)\n",
    "metric = ClassificationMetric(syn_test, \n",
    "                              predictions, \n",
    "                              unprivileged_groups=unprivileged_groups,\n",
    "                              privileged_groups=privileged_groups)\n",
    "\n",
    "print(\"p-rule on unconstrained classifier: \\t\", metric.disparate_impact())\n",
    "print(\"accuracy on constrained classifier: \\t\", metric.accuracy())"
   ]
  },
  {
   "cell_type": "code",
   "execution_count": 15,
   "metadata": {},
   "outputs": [
    {
     "data": {
      "text/plain": [
       "<fairensics.methods.disparate_impact.FairDisparateImpact at 0x7f6c18406cf8>"
      ]
     },
     "execution_count": 15,
     "metadata": {},
     "output_type": "execute_result"
    }
   ],
   "source": [
    "# optimize accuracy subject to fainess constraints\n",
    "dspim_f = FairDisparateImpact(warn=False)\n",
    "dspim_f.fit(syn_train)"
   ]
  },
  {
   "cell_type": "code",
   "execution_count": 16,
   "metadata": {},
   "outputs": [
    {
     "name": "stdout",
     "output_type": "stream",
     "text": [
      "p-rule on constrained classifier: \t 0.4669811320754717\n",
      "accuracy on constrained classifier: \t 0.865\n"
     ]
    }
   ],
   "source": [
    "predictions = dspim_f.predict(syn_test)\n",
    "\n",
    "metric = ClassificationMetric(syn_test, \n",
    "                              predictions, \n",
    "                              unprivileged_groups=unprivileged_groups,\n",
    "                              privileged_groups=privileged_groups)\n",
    "\n",
    "print(\"p-rule on constrained classifier: \\t\", metric.disparate_impact())\n",
    "print(\"accuracy on constrained classifier: \\t\", metric.accuracy())"
   ]
  },
  {
   "cell_type": "markdown",
   "metadata": {},
   "source": [
    "The results are almost the same."
   ]
  },
  {
   "cell_type": "code",
   "execution_count": 17,
   "metadata": {},
   "outputs": [
    {
     "data": {
      "text/plain": [
       "<fairensics.methods.disparate_impact.AccurateDisparateImpact at 0x7f6c18406e48>"
      ]
     },
     "execution_count": 17,
     "metadata": {},
     "output_type": "execute_result"
    }
   ],
   "source": [
    "# optimize fairness subject to accuracy constraints\n",
    "dspim_a = AccurateDisparateImpact(warn=False)\n",
    "dspim_a.fit(syn_train)"
   ]
  },
  {
   "cell_type": "code",
   "execution_count": 18,
   "metadata": {},
   "outputs": [
    {
     "name": "stdout",
     "output_type": "stream",
     "text": [
      "p-rule on constrained classifier: \t 1.20809406617446\n",
      "accuracy on constrained classifier: \t 0.6866666666666666\n"
     ]
    }
   ],
   "source": [
    "predictions = dspim_a.predict(syn_test)\n",
    "metric = ClassificationMetric(syn_test, \n",
    "                              predictions, \n",
    "                              unprivileged_groups=unprivileged_groups,\n",
    "                              privileged_groups=privileged_groups)\n",
    "\n",
    "print(\"p-rule on constrained classifier: \\t\", metric.disparate_impact())\n",
    "print(\"accuracy on constrained classifier: \\t\", metric.accuracy())"
   ]
  },
  {
   "cell_type": "markdown",
   "metadata": {},
   "source": [
    "\n",
    "The accuracy constraint produces the same results as the unconstrained one.\n",
    "This can be visualized through the decision boundaries:"
   ]
  },
  {
   "cell_type": "code",
   "execution_count": 19,
   "metadata": {},
   "outputs": [
    {
     "data": {
      "image/png": "[encoded data removed]",
      "text/plain": [
       "<matplotlib.figure.Figure at 0x7f6c0dbe12e8>"
      ]
     },
     "metadata": {},
     "output_type": "display_data"
    }
   ],
   "source": [
    "dec_bound = DecisionBoundary()\n",
    "dec_bound.scatter(syn_test)\n",
    "dec_bound.add_boundary(syn_test, skclf, label=\"unconstrained\", num_points=1000)\n",
    "dec_bound.add_boundary(syn_test, dspim_f, label=\"fairness constraint\", num_points=1000)\n",
    "dec_bound.add_boundary(syn_test, dspim_a, label=\"accuracy constraint\", num_points=1000)\n",
    "dec_bound.show()"
   ]
  },
  {
   "cell_type": "markdown",
   "metadata": {},
   "source": [
    "## 1.4 Other Parameters\n",
    "Other possible constraints and parameters are described in the corresponding notebooks starting with 2_..."
   ]
  },
  {
   "cell_type": "markdown",
   "metadata": {},
   "source": [
    "# 2. Real World Data Set\n",
    "The german credit data set (https://archive.ics.uci.edu/ml/datasets/Statlog+%28German+Credit+Data%29) is frequently used in fairness applications. It contains several features and a few of them can be considered protected."
   ]
  },
  {
   "cell_type": "code",
   "execution_count": 20,
   "metadata": {},
   "outputs": [],
   "source": [
    "# load the german credit data set \n",
    "gcd = GermanDataset()"
   ]
  },
  {
   "cell_type": "markdown",
   "metadata": {},
   "source": [
    "Print some stats about the data set:"
   ]
  },
  {
   "cell_type": "code",
   "execution_count": 21,
   "metadata": {},
   "outputs": [
    {
     "data": {
      "text/plain": [
       "['sex', 'age']"
      ]
     },
     "execution_count": 21,
     "metadata": {},
     "output_type": "execute_result"
    }
   ],
   "source": [
    "gcd.protected_attribute_names"
   ]
  },
  {
   "cell_type": "code",
   "execution_count": 22,
   "metadata": {},
   "outputs": [
    {
     "data": {
      "text/plain": [
       "[array([1.]), array([1.])]"
      ]
     },
     "execution_count": 22,
     "metadata": {},
     "output_type": "execute_result"
    }
   ],
   "source": [
    "gcd.privileged_protected_attributes"
   ]
  },
  {
   "cell_type": "code",
   "execution_count": 23,
   "metadata": {},
   "outputs": [
    {
     "data": {
      "text/plain": [
       "[array([0.]), array([0.])]"
      ]
     },
     "execution_count": 23,
     "metadata": {},
     "output_type": "execute_result"
    }
   ],
   "source": [
    "gcd.unprivileged_protected_attributes"
   ]
  },
  {
   "cell_type": "code",
   "execution_count": 24,
   "metadata": {},
   "outputs": [
    {
     "data": {
      "text/plain": [
       "(1000, 58)"
      ]
     },
     "execution_count": 24,
     "metadata": {},
     "output_type": "execute_result"
    }
   ],
   "source": [
    "gcd.features.shape"
   ]
  },
  {
   "cell_type": "code",
   "execution_count": 25,
   "metadata": {},
   "outputs": [],
   "source": [
    "# split the data \n",
    "gcd_train, gcd_test = gcd.split([0.7], shuffle=True)"
   ]
  },
  {
   "cell_type": "code",
   "execution_count": 26,
   "metadata": {},
   "outputs": [
    {
     "name": "stdout",
     "output_type": "stream",
     "text": [
      "[{'sex': array([0.])}]\n",
      "[{'sex': array([1.])}]\n"
     ]
    }
   ],
   "source": [
    "# protected and unprotected groups for the metric\n",
    "unprivileged_groups = [{gcd.protected_attribute_names[0]:gcd.unprivileged_protected_attributes[0]}]\n",
    "privileged_groups = [{gcd.protected_attribute_names[0]:gcd.privileged_protected_attributes[0]}]\n",
    "\n",
    "print(unprivileged_groups)\n",
    "print(privileged_groups)"
   ]
  },
  {
   "cell_type": "code",
   "execution_count": 27,
   "metadata": {},
   "outputs": [
    {
     "name": "stdout",
     "output_type": "stream",
     "text": [
      "p-rule: \t 0.7749612350839344\n",
      "accuracy: \t 0.7633333333333333\n"
     ]
    },
    {
     "name": "stderr",
     "output_type": "stream",
     "text": [
      "../fairensics/methods/disparate_impact.py:364: UserWarning: Only the first protected attribute is considered with this constraint.\n",
      "  warnings.warn(\"Only the first protected attribute is considered with this constraint.\")\n"
     ]
    }
   ],
   "source": [
    "# fairness constraint\n",
    "dspim_f = FairDisparateImpact(warn=False)\n",
    "dspim_f.fit(gcd_train)\n",
    "\n",
    "predictions = dspim_f.predict(gcd_test)\n",
    "gcd_metric = ClassificationMetric(gcd_test, \n",
    "                                  predictions, \n",
    "                                  unprivileged_groups=unprivileged_groups,\n",
    "                                  privileged_groups=privileged_groups)\n",
    "\n",
    "print(\"p-rule: \\t\", gcd_metric.disparate_impact())\n",
    "print('accuracy: \\t', gcd_metric.accuracy())"
   ]
  },
  {
   "cell_type": "code",
   "execution_count": 28,
   "metadata": {},
   "outputs": [
    {
     "name": "stdout",
     "output_type": "stream",
     "text": [
      "p-rule: \t 0.9215167548500881\n",
      "accuracy: \t 0.74\n"
     ]
    }
   ],
   "source": [
    "# accuracy constraint\n",
    "dspim_a = AccurateDisparateImpact(warn=False)\n",
    "dspim_a.fit(gcd_train)\n",
    "\n",
    "predictions = dspim_a.predict(gcd_test)\n",
    "gcd_metric = ClassificationMetric(gcd_test, \n",
    "                                  predictions, \n",
    "                                  unprivileged_groups=unprivileged_groups,\n",
    "                                  privileged_groups=privileged_groups)\n",
    "\n",
    "print(\"p-rule: \\t\", gcd_metric.disparate_impact())\n",
    "print('accuracy: \\t', gcd_metric.accuracy())"
   ]
  },
  {
   "cell_type": "code",
   "execution_count": 29,
   "metadata": {},
   "outputs": [
    {
     "data": {
      "text/plain": [
       "0.76"
      ]
     },
     "execution_count": 29,
     "metadata": {},
     "output_type": "execute_result"
    }
   ],
   "source": [
    "# sklearn\n",
    "\n",
    "from fairensics.fairensics_utils import get_unprotected_attributes\n",
    "\n",
    "skclf = LogisticRegression()\n",
    "\n",
    "skclf.fit(get_unprotected_attributes(gcd_train), gcd_train.labels.ravel())\n",
    "skclf.score(get_unprotected_attributes(gcd_test), gcd_test.labels)"
   ]
  },
  {
   "cell_type": "code",
   "execution_count": 30,
   "metadata": {},
   "outputs": [
    {
     "data": {
      "image/png": "[encoded data removed]",
      "text/plain": [
       "<matplotlib.figure.Figure at 0x7f6c0daa5fd0>"
      ]
     },
     "metadata": {},
     "output_type": "display_data"
    }
   ],
   "source": [
    "# decision boundaries\n",
    "dec_bound = DecisionBoundary()\n",
    "dec_bound.scatter(gcd_test)\n",
    "dec_bound.add_boundary(gcd_test, dspim_f, label=\"fairness constraint\", num_points=1000)\n",
    "dec_bound.add_boundary(gcd_test, dspim_a, label=\"accuracy constraint\", num_points=1000)\n",
    "dec_bound.add_boundary(gcd_test, skclf, label=\"sklearn\", num_points=1000)\n",
    "dec_bound.show()"
   ]
  },
  {
   "cell_type": "code",
   "execution_count": null,
   "metadata": {},
   "outputs": [],
   "source": []
  }
 ],
 "metadata": {
  "kernelspec": {
   "display_name": "Python 3",
   "language": "python",
   "name": "python3"
  },
  "language_info": {
   "codemirror_mode": {
    "name": "ipython",
    "version": 3
   },
   "file_extension": ".py",
   "mimetype": "text/x-python",
   "name": "python",
   "nbconvert_exporter": "python",
   "pygments_lexer": "ipython3",
   "version": "3.6.4"
  }
 },
 "nbformat": 4,
 "nbformat_minor": 2
}
