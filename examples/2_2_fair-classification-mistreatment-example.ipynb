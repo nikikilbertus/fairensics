{
 "cells": [
  {
   "cell_type": "markdown",
   "metadata": {},
   "source": [
    "# Disparate Mistreatment Remover Example\n",
    "\n",
    "Examples and explanations for function parameters of the disparate mistreatment remover https://github.com/mbilalzafar/fair-classification/tree/master/disparate_mistreatment.\n"
   ]
  },
  {
   "cell_type": "code",
   "execution_count": 1,
   "metadata": {},
   "outputs": [],
   "source": [
    "import sys\n",
    "import numpy as np\n",
    "sys.path.append(\"../\")\n",
    "\n",
    "from aif360.datasets import GermanDataset\n",
    "from aif360.metrics import ClassificationMetric\n",
    "from fairensics.data.synthetic_dataset import SyntheticDataset\n",
    "from fairensics.data.decision_boundary import DecisionBoundary \n",
    "from fairensics.methods import DisparateMistreatment\n",
    "from sklearn.linear_model import LogisticRegression\n",
    "from sklearn.svm import SVC"
   ]
  },
  {
   "cell_type": "code",
   "execution_count": 2,
   "metadata": {},
   "outputs": [],
   "source": [
    "# helper function to print evaluations\n",
    "def print_evaluation(dataset, clf, unprivileged_groups, privileged_groups):\n",
    "    predictions = clf.predict(dataset)\n",
    "\n",
    "    metric = ClassificationMetric(dataset,\n",
    "                                  predictions,\n",
    "                                  unprivileged_groups=unprivileged_groups,\n",
    "                                  privileged_groups=privileged_groups)\n",
    "\n",
    "    print(\"p-rule: \\t\", metric.disparate_impact())\n",
    "    print('accuracy: \\t', metric.accuracy())\n",
    "    "
   ]
  },
  {
   "cell_type": "markdown",
   "metadata": {},
   "source": [
    "# 0.1 Load data"
   ]
  },
  {
   "cell_type": "code",
   "execution_count": 3,
   "metadata": {},
   "outputs": [],
   "source": [
    "gcd = GermanDataset()\n",
    "\n",
    "privileged_groups = [{'sex': 1}]\n",
    "unprivileged_groups = [{'sex': 0}]\n",
    "\n",
    "gcd_train, gcd_test = gcd.split([0.7], shuffle=True)"
   ]
  },
  {
   "cell_type": "markdown",
   "metadata": {},
   "source": [
    "# 0.2  Metric\n",
    "- Disparate mistreatment/equalized odds\n",
    "\n",
    "The error rates must be balanced."
   ]
  },
  {
   "cell_type": "markdown",
   "metadata": {},
   "source": [
    "## 0.2.1 Definition\n",
    "- $z$ the protected features\n",
    "- $X$ unprotected features\n",
    "- $\\hat{y}$ the predicted label\n",
    "- $\\hat{y}=1$ the positive label  (e.g. getting a loan)\n",
    "- $P_i(\\hat{y}=1)$ the probability for members of group _i_ to be assigned the positive label.\n",
    "\n",
    "There are four types of error rates that may be balanced:\n",
    "\n",
    "- false positives\n",
    "- false negatives\n",
    "- false omissions\n",
    "- false discovery\n"
   ]
  },
  {
   "cell_type": "markdown",
   "metadata": {},
   "source": [
    "## 0.2.2 Method\n",
    "- Decision boundary covariance:\n",
    "\n",
    "$$cov(g(y, x), z) \\approx \\frac{1}{N} \\sum  (z_i - \\bar{z})g(y, x)$$\n",
    "\n",
    "- $g(x,y)$ now depends on the true outcome $y$\n",
    "- Solver: CVXPY and DCCP\n"
   ]
  },
  {
   "cell_type": "markdown",
   "metadata": {},
   "source": [
    "# 0.3 Parameters\n",
    "**- loss_function [string]**\n",
    "- 'logreg' (default)\n",
    "- 'svm_linear\n",
    "\n",
    "- [logreg_2]\n",
    "\n",
    "**- constraint_type [string]**\n",
    " - None (default)\n",
    " - \"all\"\n",
    " - \"fpr\"\n",
    " - \"fnr\"\n",
    " - \"fprfnr\"\n",
    "\n",
    "**- sensitive_attrs_to_cov_thresh [dict], optional, used**\n",
    "- covariance threshold for each sensitive attribute {'attribute1_name':tresh_1, ...}\n",
    "\n",
    "**- take_initial_sol [bool]**\n",
    "- if true, the DCCP solver uses the initial solution of the unconstrained solver as starting point\n",
    "\n",
    "**- Solver related Parameters**\n",
    " - tau=0.5\n",
    " - mu=1.2\n",
    " - EPS=1e-6"
   ]
  },
  {
   "cell_type": "code",
   "execution_count": 4,
   "metadata": {},
   "outputs": [
    {
     "name": "stdout",
     "output_type": "stream",
     "text": [
      "DisparateMistreatment without constraint\n",
      "p-rule: \t 0.9574720210664911\n",
      "accuracy: \t 0.7266666666666667\n"
     ]
    }
   ],
   "source": [
    "dspmis = DisparateMistreatment(warn=False)\n",
    "print(\"DisparateMistreatment without constraint\")\n",
    "dspmis.fit(gcd_train)\n",
    "print_evaluation(gcd_test, dspmis, unprivileged_groups, privileged_groups)"
   ]
  },
  {
   "cell_type": "code",
   "execution_count": 5,
   "metadata": {},
   "outputs": [
    {
     "name": "stdout",
     "output_type": "stream",
     "text": [
      "DisparateMistreatment with combined constraint\n",
      "p-rule: \t 0.9574720210664911\n",
      "accuracy: \t 0.7266666666666667\n"
     ]
    },
    {
     "name": "stderr",
     "output_type": "stream",
     "text": [
      "../fairensics/methods/disparate_mistreatment.py:186: UserWarning: Solver hasn't satisfied constraint. Make sure that the constraints are satisfied empirically. Alternatively, consider increasing tau parameter\n",
      "  warnings.warn(\"Solver hasn't satisfied constraint.\"\n"
     ]
    }
   ],
   "source": [
    "dspmis = DisparateMistreatment(constraint_type=\"all\", warn=False)\n",
    "print(\"DisparateMistreatment with combined constraint\")\n",
    "dspmis.fit(gcd_train)\n",
    "print_evaluation(gcd_test, dspmis, unprivileged_groups, privileged_groups)"
   ]
  },
  {
   "cell_type": "code",
   "execution_count": 6,
   "metadata": {},
   "outputs": [
    {
     "name": "stdout",
     "output_type": "stream",
     "text": [
      "DisparateMistreatment with fpr constraint\n",
      "p-rule: \t 0.9574720210664911\n",
      "accuracy: \t 0.7266666666666667\n"
     ]
    },
    {
     "name": "stderr",
     "output_type": "stream",
     "text": [
      "../fairensics/methods/disparate_mistreatment.py:186: UserWarning: Solver hasn't satisfied constraint. Make sure that the constraints are satisfied empirically. Alternatively, consider increasing tau parameter\n",
      "  warnings.warn(\"Solver hasn't satisfied constraint.\"\n"
     ]
    }
   ],
   "source": [
    "dspmis = DisparateMistreatment(constraint_type=\"fpr\", warn=False)\n",
    "print(\"DisparateMistreatment with fpr constraint\")\n",
    "dspmis.fit(gcd_train)\n",
    "print_evaluation(gcd_test, dspmis, unprivileged_groups, privileged_groups)"
   ]
  },
  {
   "cell_type": "code",
   "execution_count": 7,
   "metadata": {},
   "outputs": [
    {
     "name": "stdout",
     "output_type": "stream",
     "text": [
      "DisparateMistreatment with fnr constraint\n",
      "p-rule: \t 0.9574720210664911\n",
      "accuracy: \t 0.7266666666666667\n"
     ]
    },
    {
     "name": "stderr",
     "output_type": "stream",
     "text": [
      "../fairensics/methods/disparate_mistreatment.py:186: UserWarning: Solver hasn't satisfied constraint. Make sure that the constraints are satisfied empirically. Alternatively, consider increasing tau parameter\n",
      "  warnings.warn(\"Solver hasn't satisfied constraint.\"\n"
     ]
    }
   ],
   "source": [
    "dspmis = DisparateMistreatment(constraint_type=\"fnr\", warn=False)\n",
    "print(\"DisparateMistreatment with fnr constraint\")\n",
    "dspmis.fit(gcd_train)\n",
    "print_evaluation(gcd_test, dspmis, unprivileged_groups, privileged_groups)"
   ]
  },
  {
   "cell_type": "code",
   "execution_count": 8,
   "metadata": {},
   "outputs": [
    {
     "name": "stdout",
     "output_type": "stream",
     "text": [
      "DisparateMistreatment with fnr constraint\n",
      "p-rule: \t 0.9574720210664911\n",
      "accuracy: \t 0.7266666666666667\n"
     ]
    },
    {
     "name": "stderr",
     "output_type": "stream",
     "text": [
      "../fairensics/methods/disparate_mistreatment.py:186: UserWarning: Solver hasn't satisfied constraint. Make sure that the constraints are satisfied empirically. Alternatively, consider increasing tau parameter\n",
      "  warnings.warn(\"Solver hasn't satisfied constraint.\"\n"
     ]
    }
   ],
   "source": [
    "dspmis = DisparateMistreatment(constraint_type=\"fprfnr\", warn=False)\n",
    "print(\"DisparateMistreatment with fnr constraint\")\n",
    "dspmis.fit(gcd_train)\n",
    "print_evaluation(gcd_test, dspmis, unprivileged_groups, privileged_groups)"
   ]
  },
  {
   "cell_type": "code",
   "execution_count": null,
   "metadata": {},
   "outputs": [],
   "source": []
  }
 ],
 "metadata": {
  "kernelspec": {
   "display_name": "Python 3",
   "language": "python",
   "name": "python3"
  },
  "language_info": {
   "codemirror_mode": {
    "name": "ipython",
    "version": 3
   },
   "file_extension": ".py",
   "mimetype": "text/x-python",
   "name": "python",
   "nbconvert_exporter": "python",
   "pygments_lexer": "ipython3",
   "version": "3.6.4"
  }
 },
 "nbformat": 4,
 "nbformat_minor": 2
}
